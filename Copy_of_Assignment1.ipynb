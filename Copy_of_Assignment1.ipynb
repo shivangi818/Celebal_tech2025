{
  "nbformat": 4,
  "nbformat_minor": 0,
  "metadata": {
    "colab": {
      "provenance": [],
      "authorship_tag": "ABX9TyM7eMHDK1pwNH3nYylexKsF",
      "include_colab_link": true
    },
    "kernelspec": {
      "name": "python3",
      "display_name": "Python 3"
    },
    "language_info": {
      "name": "python"
    }
  },
  "cells": [
    {
      "cell_type": "markdown",
      "metadata": {
        "id": "view-in-github",
        "colab_type": "text"
      },
      "source": [
        "<a href=\"https://colab.research.google.com/github/shivangi818/Celebal_tech2025/blob/main/Copy_of_Assignment1.ipynb\" target=\"_parent\"><img src=\"https://colab.research.google.com/assets/colab-badge.svg\" alt=\"Open In Colab\"/></a>"
      ]
    },
    {
      "cell_type": "code",
      "execution_count": null,
      "metadata": {
        "colab": {
          "base_uri": "https://localhost:8080/"
        },
        "id": "nNBwfrraGCB5",
        "outputId": "2699a919-dcb1-47af-87dd-0ce1c802fc5b"
      },
      "outputs": [
        {
          "output_type": "stream",
          "name": "stdout",
          "text": [
            "4\n",
            "5\n",
            "9\n",
            "-1\n",
            "20\n"
          ]
        }
      ],
      "source": [
        "# Arithmetic Operators\n",
        "if __name__ == '__main__':\n",
        "    a = int(input())\n",
        "    b = int(input())\n",
        "\n",
        "    print(a+b)\n",
        "    print(a-b)\n",
        "    print(a*b)\n",
        "\n"
      ]
    },
    {
      "cell_type": "code",
      "source": [
        "# Compress The String!\n",
        "from itertools import groupby\n",
        "s=input().strip()\n",
        "for key, group in groupby(s):\n",
        "    count= len(list(group))\n",
        "    print(f\"({count}, {key})\", end=' ')\n"
      ],
      "metadata": {
        "colab": {
          "base_uri": "https://localhost:8080/"
        },
        "id": "R53z9Ww4GNHa",
        "outputId": "e5cf5f76-ca2b-452e-98c4-00c7d6b66e65"
      },
      "execution_count": null,
      "outputs": [
        {
          "output_type": "stream",
          "name": "stdout",
          "text": [
            "12334445676\n",
            "(1, 1) (1, 2) (2, 3) (3, 4) (1, 5) (1, 6) (1, 7) (1, 6) "
          ]
        }
      ]
    },
    {
      "cell_type": "code",
      "source": [
        "# The Minion Game\n",
        "def minion_game(string):\n",
        "    # your code goes here\n",
        "    vowels= 'AEIOU'\n",
        "    kevin_score=0\n",
        "    stuart_score=0\n",
        "    length=len(string)\n",
        "\n",
        "    for i in range(length):\n",
        "        if string[i] in vowels:\n",
        "            kevin_score +=(length-i)\n",
        "        else:\n",
        "            stuart_score += (length-i)\n",
        "    if kevin_score > stuart_score:\n",
        "        print(\"Kevin\", kevin_score)\n",
        "    elif stuart_score > kevin_score:\n",
        "        print(\"Stuart\", stuart_score)\n",
        "    else:\n",
        "        print(\"Draw\")\n",
        "\n",
        "if __name__ == '__main__':\n",
        "    s = input()\n",
        "    minion_game(s)"
      ],
      "metadata": {
        "colab": {
          "base_uri": "https://localhost:8080/"
        },
        "id": "0kFL74Z-GcBC",
        "outputId": "3c16ea4d-fb62-4ef3-899d-837db0d18a15"
      },
      "execution_count": null,
      "outputs": [
        {
          "output_type": "stream",
          "name": "stdout",
          "text": [
            "banana\n",
            "Stuart 21\n"
          ]
        }
      ]
    },
    {
      "cell_type": "code",
      "source": [
        "# Write a function\n",
        "def is_leap(year):\n",
        "    leap = False\n",
        "    if(year%4==0 and year%100!=0) or (year% 400==0):\n",
        "        leap=True\n",
        "    # Write your logic here\n",
        "\n",
        "    return leap\n",
        "\n",
        "year = int(input())\n",
        "print(is_leap(year))"
      ],
      "metadata": {
        "colab": {
          "base_uri": "https://localhost:8080/"
        },
        "id": "rQgeNZnsHcgT",
        "outputId": "685fe527-3243-4869-a8ca-2b489a6b53c1"
      },
      "execution_count": null,
      "outputs": [
        {
          "output_type": "stream",
          "name": "stdout",
          "text": [
            "1920\n",
            "True\n"
          ]
        }
      ]
    },
    {
      "cell_type": "code",
      "source": [
        "# Iterable and Iterators\n",
        "# Enter your code here. Read input from STDIN. Print output to STDOUT\n",
        "from itertools import combinations\n",
        "n=int(input())\n",
        "letters= input().split()\n",
        "k=int(input())\n",
        "\n",
        "all_combinations= list(combinations(letters,k))\n",
        "\n",
        "favourable= [combo for combo in all_combinations if 'a' in combo]\n",
        "\n",
        "prob= len(favourable)/ len(all_combinations)\n",
        "\n",
        "print(f\"{prob:4f}\")\n"
      ],
      "metadata": {
        "colab": {
          "base_uri": "https://localhost:8080/"
        },
        "id": "fp2vQ7i9JZhw",
        "outputId": "cc14d285-2faa-4bbc-ec06-16e4b51fc7e1"
      },
      "execution_count": null,
      "outputs": [
        {
          "output_type": "stream",
          "name": "stdout",
          "text": [
            "4\n",
            "a a c d\n",
            "2\n",
            "0.833333\n"
          ]
        }
      ]
    },
    {
      "cell_type": "code",
      "source": [
        "# Tuples\n",
        "if __name__ == '__main__':\n",
        "    n = int(input())\n",
        "    integer_list = map(int, input().split())\n",
        "    t= tuple(integer_list)\n",
        "    print(hash(t))\n"
      ],
      "metadata": {
        "colab": {
          "base_uri": "https://localhost:8080/"
        },
        "id": "MasUpvP2Jt6Q",
        "outputId": "fdf34824-fd77-4b04-9a64-1de082efa1c7"
      },
      "execution_count": null,
      "outputs": [
        {
          "output_type": "stream",
          "name": "stdout",
          "text": [
            "2\n",
            "12\n",
            "-860454829093830431\n"
          ]
        }
      ]
    },
    {
      "cell_type": "code",
      "source": [
        "# Finding the percentage\n",
        "if __name__ == '__main__':\n",
        "    n = int(input())\n",
        "    student_marks = {}\n",
        "    for _ in range(n):\n",
        "        name, *line = input().split()\n",
        "        scores = list(map(float, line))\n",
        "        student_marks[name] = scores\n",
        "    query_name = input()\n",
        "    avg= sum(student_marks[query_name])/ len(student_marks[query_name])\n",
        "    print(f\"{avg:.2f}\")"
      ],
      "metadata": {
        "colab": {
          "base_uri": "https://localhost:8080/"
        },
        "id": "52e89iskKMQB",
        "outputId": "5c613d39-0c3e-458c-ddbc-c5d7af611983"
      },
      "execution_count": null,
      "outputs": [
        {
          "output_type": "stream",
          "name": "stdout",
          "text": [
            "3\n",
            "Krishna 65 76 54\n",
            "arjun 54 325 7\n",
            "malika 43 54 65\n",
            "malika\n",
            "54.00\n"
          ]
        }
      ]
    },
    {
      "cell_type": "code",
      "source": [
        "# String Formatting\n",
        "def print_formatted(number):\n",
        "    # your code goes here\n",
        "    width = len(bin(number)[2:])\n",
        "    for i in range(1, number+1):\n",
        "        dec= str(i).rjust(width)\n",
        "        octa= oct(i)[2:].rjust(width)\n",
        "        hexa=hex(i)[2:].upper().rjust(width)\n",
        "        binary= bin(i)[2:].rjust(width)\n",
        "        print(dec, octa, hexa, binary)\n",
        "\n",
        "if __name__ == '__main__':\n",
        "    n = int(input())\n",
        "    print_formatted(n)"
      ],
      "metadata": {
        "colab": {
          "base_uri": "https://localhost:8080/"
        },
        "id": "8RRqhJFDKXv-",
        "outputId": "fd903fcd-e405-4f77-e990-d51417cf7578"
      },
      "execution_count": null,
      "outputs": [
        {
          "output_type": "stream",
          "name": "stdout",
          "text": [
            "17\n",
            "    1     1     1     1\n",
            "    2     2     2    10\n",
            "    3     3     3    11\n",
            "    4     4     4   100\n",
            "    5     5     5   101\n",
            "    6     6     6   110\n",
            "    7     7     7   111\n",
            "    8    10     8  1000\n",
            "    9    11     9  1001\n",
            "   10    12     A  1010\n",
            "   11    13     B  1011\n",
            "   12    14     C  1100\n",
            "   13    15     D  1101\n",
            "   14    16     E  1110\n",
            "   15    17     F  1111\n",
            "   16    20    10 10000\n",
            "   17    21    11 10001\n"
          ]
        }
      ]
    },
    {
      "cell_type": "code",
      "source": [],
      "metadata": {
        "id": "ms2XH4PVLJux"
      },
      "execution_count": null,
      "outputs": []
    }
  ]
}